{
 "cells": [
  {
   "cell_type": "code",
   "execution_count": 7,
   "metadata": {},
   "outputs": [],
   "source": [
    "import pandas as pd\n",
    "import numpy as np\n",
    "import scipy as sp"
   ]
  },
  {
   "cell_type": "code",
   "execution_count": 91,
   "metadata": {},
   "outputs": [],
   "source": [
    "import seaborn as sns\n",
    "from matplotlib import pyplot as plt"
   ]
  },
  {
   "cell_type": "code",
   "execution_count": 490,
   "metadata": {},
   "outputs": [],
   "source": [
    "class UGMM(object):\n",
    "    \n",
    "    def __init__(self, X, K=1):\n",
    "        self.X = X\n",
    "        self.K = K\n",
    "        self.N = self.X.shape[0]\n",
    "\n",
    "    def _init(self):\n",
    "        self.alpha=np.random.rand(self.K,1)\n",
    "        self.m= np.random.rand(self.K,1)\n",
    "        self.beta=np.random.rand(self.K,1)\n",
    "        self.beta_prev=np.random.rand(self.K,1)\n",
    "        self.nu=np.random.rand(self.K,1)*np.random.randint(1,10)\n",
    "        self.W=np.random.rand(self.K,1)*np.random.randint(1,10)\n",
    "        self.alpha=np.random.rand(self.K,1)\n",
    "        self.r=np.zeros((self.N,self.K))\n",
    "        self.x_nebla=np.zeros((self.K,1))\n",
    "        self.Nk=np.zeros((self.K,1))\n",
    "        self.S=np.zeros((self.K,1))\n",
    "        self.pi_nebla=np.zeros((self.K,1))\n",
    "        self.lamda_nebla=np.zeros((self.K,1))\n",
    "        self.E_mu_lamda=np.zeros((self.N,self.K))\n",
    "        \n",
    "        \n",
    "\n",
    "        print('Init mean')\n",
    "        print(self.m)\n",
    "        \n",
    "\n",
    "    def E_Step(self):\n",
    "        for n in range(self.N):\n",
    "            for k in range(self.K):\n",
    "                self.pi_nebla[k]=np.exp(sp.special.digamma(self.alpha[k])-sp.special.digamma(self.alpha.sum()))\n",
    "                self.lamda_nebla[k]=np.exp(sp.special.digamma(self.nu[k]/2, out=None)+np.log(2)+np.log(self.W[k]))\n",
    "                self.E_mu_lamda[n][k]=(self.beta[k]**(-1))+self.nu[k]*self.W[k]*(self.X[n]-self.m[k])**2\n",
    "                self.r[n][k]=self.pi_nebla[k]*(self.lamda_nebla[k]**0.5)*(np.exp(-0.5*self.E_mu_lamda[n][k]))\n",
    "        row_sums = self.r.sum(axis=1)\n",
    "        self.r= self.r / row_sums[:, np.newaxis]\n",
    "        \n",
    "        \n",
    "    def fit(self, max_iter=1000, tol=1e-6):\n",
    "        self._init()\n",
    "#         self.r_values = [self.r_elbo()]\n",
    "        self.m_history = [self.m.copy()]\n",
    "        self.E_Step()\n",
    "#         self.s2_history = [self.s2]\n",
    "        for iter_ in range(1, max_iter+1):\n",
    "#             print('before')\n",
    "#             print(self.m_history)\n",
    "            self.M_Step()\n",
    "#             print('after')\n",
    "#             print(self.m_history)\n",
    "            self.m_history.append(self.m.copy())\n",
    "            if iter_ % 10 == 0:\n",
    "                print(iter_, self.m_history[iter_])\n",
    "                \n",
    "            if np.linalg.norm(self.m_history[-1]-self.m_history[-2],2) <= tol:\n",
    "                print('ELBO converged with ll %.3f at iteration %d'%(self.m_history[-1][0],iter_))\n",
    "                break\n",
    "            self.E_Step()\n",
    "        if iter_ == max_iter:\n",
    "            print('ELBO ended with ll %.3f'%(self.m_history[-1][0]))\n",
    "\n",
    "\n",
    "    def M_Step(self):\n",
    "        self._update_Nk()\n",
    "        self._update_x_nebla()\n",
    "        self._update_S()\n",
    "        self._update_alpha()\n",
    "        self._update_W()\n",
    "        self._update_beta()\n",
    "        self._update_nu()\n",
    "        self._update_m()\n",
    "\n",
    "    def _update_Nk(self):\n",
    "        for k in range(self.K):\n",
    "            self.Nk[k]=self.r[:,k].sum()\n",
    "            \n",
    "    def _update_x_nebla(self):\n",
    "        for k in range(self.K):\n",
    "            self.x_nebla[k]=0\n",
    "            for n in range(self.N):\n",
    "#                 print(self.Nk)\n",
    "                self.x_nebla[k]+=self.r[n][k]*self.X[n]/self.Nk[k]\n",
    "    \n",
    "    def _update_S(self):\n",
    "        for k in range(self.K):\n",
    "            self.S[k]=0\n",
    "            for n in range(self.N):\n",
    "                self.S[k]+=(self.r[n][k]*(self.X[n]-self.x_nebla[k])**(2))/self.Nk[k]\n",
    "                \n",
    "    def _update_alpha(self):\n",
    "        for k in range(self.K):\n",
    "            self.alpha[k]=self.alpha[k]+self.Nk[k]\n",
    "            \n",
    "    def _update_beta(self):\n",
    "        self.beta_prev=self.beta.copy()\n",
    "        for k in range(self.K):\n",
    "            self.beta[k]=self.beta[k]+self.Nk[k]\n",
    "        \n",
    "    def _update_m(self):\n",
    "        for k in range(self.K):\n",
    "            self.m[k]=(self.beta_prev[k]*self.m[k]+self.Nk[k]*self.x_nebla[k])/self.beta[k]\n",
    "#         print('achha')\n",
    "#         print(self.m)\n",
    "    \n",
    "    \n",
    "    def _update_W(self):\n",
    "        for k in range(self.K):\n",
    "            self.W[k]=((1/self.W[k])+self.Nk[k]*self.S[k]+(self.beta[k]*self.Nk[k]/(self.beta[k]+self.Nk[k]))*(self.x_nebla[k]-self.m[k])**2)**(-1)\n",
    "        \n",
    "    \n",
    "    def _update_nu(self):\n",
    "        for k in range(self.K):\n",
    "            self.nu[k]=self.nu[k]+self.Nk[k]\n",
    "    \n",
    "#     def _calculate_rnk\n",
    "        "
   ]
  },
  {
   "cell_type": "code",
   "execution_count": 491,
   "metadata": {},
   "outputs": [],
   "source": [
    "data=pd.read_csv('data2.txt',header=None)"
   ]
  },
  {
   "cell_type": "code",
   "execution_count": 492,
   "metadata": {},
   "outputs": [],
   "source": [
    "X =np.array(data.iloc[0,0])\n",
    "for i in range(1,1000):\n",
    "    X= np.append(X, data.iloc[i,0])\n",
    "    "
   ]
  },
  {
   "cell_type": "code",
   "execution_count": 493,
   "metadata": {},
   "outputs": [
    {
     "data": {
      "text/plain": [
       "0.9942949885119834"
      ]
     },
     "execution_count": 493,
     "metadata": {},
     "output_type": "execute_result"
    }
   ],
   "source": [
    "X.max()"
   ]
  },
  {
   "cell_type": "code",
   "execution_count": null,
   "metadata": {},
   "outputs": [
    {
     "name": "stdout",
     "output_type": "stream",
     "text": [
      "Init mean\n",
      "[[0.57424361]\n",
      " [0.64841092]\n",
      " [0.5363646 ]]\n",
      "10 [[0.57424361]\n",
      " [0.47291647]\n",
      " [0.45148363]]\n",
      "20 [[0.57424361]\n",
      " [0.47631089]\n",
      " [0.45141075]]\n",
      "30 [[0.57424361]\n",
      " [0.47771849]\n",
      " [0.4513822 ]]\n",
      "40 [[0.57424361]\n",
      " [0.47850582]\n",
      " [0.45136657]]\n",
      "50 [[0.57424361]\n",
      " [0.47901432]\n",
      " [0.45135661]]\n",
      "60 [[0.57424361]\n",
      " [0.47937221]\n",
      " [0.45134966]]\n",
      "70 [[0.57424361]\n",
      " [0.47963899]\n",
      " [0.45134451]]\n",
      "80 [[0.57424361]\n",
      " [0.47984625]\n",
      " [0.45134053]]\n",
      "90 [[0.57424361]\n",
      " [0.48001235]\n",
      " [0.45133735]]\n"
     ]
    }
   ],
   "source": [
    "ugmm = UGMM(X, 3)\n",
    "ugmm.fit()"
   ]
  },
  {
   "cell_type": "code",
   "execution_count": 481,
   "metadata": {},
   "outputs": [],
   "source": [
    "mean=ugmm.m"
   ]
  },
  {
   "cell_type": "code",
   "execution_count": 482,
   "metadata": {},
   "outputs": [
    {
     "data": {
      "text/plain": [
       "array([[0.61638225],\n",
       "       [0.45203307],\n",
       "       [0.50524659]])"
      ]
     },
     "execution_count": 482,
     "metadata": {},
     "output_type": "execute_result"
    }
   ],
   "source": [
    "mean"
   ]
  },
  {
   "cell_type": "code",
   "execution_count": null,
   "metadata": {},
   "outputs": [],
   "source": []
  }
 ],
 "metadata": {
  "kernelspec": {
   "display_name": "Python 3",
   "language": "python",
   "name": "python3"
  },
  "language_info": {
   "codemirror_mode": {
    "name": "ipython",
    "version": 3
   },
   "file_extension": ".py",
   "mimetype": "text/x-python",
   "name": "python",
   "nbconvert_exporter": "python",
   "pygments_lexer": "ipython3",
   "version": "3.7.1"
  }
 },
 "nbformat": 4,
 "nbformat_minor": 2
}
